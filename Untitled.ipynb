{
 "cells": [
  {
   "cell_type": "code",
   "execution_count": 18,
   "id": "70567d6c-2812-4ed6-844d-be4aac617f87",
   "metadata": {},
   "outputs": [
    {
     "ename": "SyntaxError",
     "evalue": "Cannot use import statement outside a module",
     "execution_count": 18,
     "output_type": "error",
     "traceback": [
      "evalmachine.<anonymous>:2",
      "import { Octokit, App } from \"https://esm.sh/octokit?dts\";",
      "^^^^^^",
      "",
      "SyntaxError: Cannot use import statement outside a module",
      "    at new Script (node:vm:94:7)",
      "    at createScript (node:vm:251:10)",
      "    at Object.runInThisContext (node:vm:299:10)",
      "    at run ([eval]:1020:15)",
      "    at onRunRequest ([eval]:864:18)",
      "    at onMessage ([eval]:828:13)",
      "    at process.emit (node:events:517:28)",
      "    at emit (node:internal/child_process:944:14)",
      "    at process.processTicksAndRejections (node:internal/process/task_queues:83:21)"
     ]
    }
   ],
   "source": [
    "\n",
    "import { Octokit, App } from \"https://esm.sh/octokit?dts\";\n",
    "import auth_key from './key.json' assert {type: \"json\"};\n"
   ]
  },
  {
   "cell_type": "code",
   "execution_count": null,
   "id": "8e7dc7ce-4622-4f85-a394-ca951bb407f0",
   "metadata": {},
   "outputs": [],
   "source": []
  }
 ],
 "metadata": {
  "kernelspec": {
   "display_name": "JavaScript (Node.js)",
   "language": "javascript",
   "name": "javascript"
  },
  "language_info": {
   "file_extension": ".js",
   "mimetype": "application/javascript",
   "name": "javascript",
   "version": "18.18.0"
  }
 },
 "nbformat": 4,
 "nbformat_minor": 5
}
